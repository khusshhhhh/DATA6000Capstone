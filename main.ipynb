{
 "cells": [
  {
   "cell_type": "code",
   "execution_count": 12,
   "id": "cc0b4d7a",
   "metadata": {},
   "outputs": [],
   "source": [
    "import pandas as pd\n",
    "import numpy as np\n",
    "from statsmodels.tsa.statespace.sarimax import SARIMAX\n",
    "from sklearn.metrics import mean_absolute_error, mean_absolute_percentage_error, mean_squared_error, r2_score\n"
   ]
  },
  {
   "cell_type": "code",
   "execution_count": 13,
   "id": "1a4cbd57",
   "metadata": {},
   "outputs": [
    {
     "name": "stdout",
     "output_type": "stream",
     "text": [
      "Column names:\n",
      "Time\n",
      "Turnover ;  Total (State) ;  Food retailing ;\n",
      "Turnover ;  Total (State) ;  Household goods retailing ;\n",
      "Turnover ;  Total (State) ;  Clothing, footwear and personal accessory retailing ;\n",
      "Turnover ;  Total (State) ;  Department stores ;\n",
      "Turnover ;  Total (State) ;  Other retailing ;\n",
      "Turnover ;  Total (State) ;  Cafes, restaurants and takeaway food services ;\n",
      "Turnover ;  Total (State) ;  Total (Industry) ;\n",
      "Change in Food Retail\n",
      "Change in goods retail\n",
      "change in acces retail\n",
      "change in Dept Store\n",
      "change in other retail\n",
      "change in food seervices\n",
      "change in total industry\n"
     ]
    }
   ],
   "source": [
    "df = pd.read_csv('Book3.csv')\n",
    "\n",
    "print(\"Column names:\")\n",
    "for col in df.columns:\n",
    "    print(col)\n"
   ]
  },
  {
   "cell_type": "code",
   "execution_count": 24,
   "id": "d81dd3d1",
   "metadata": {},
   "outputs": [
    {
     "name": "stderr",
     "output_type": "stream",
     "text": [
      "C:\\Users\\pk989\\AppData\\Local\\Temp\\ipykernel_24388\\2532545293.py:1: UserWarning: Could not infer format, so each element will be parsed individually, falling back to `dateutil`. To ensure parsing is consistent and as-expected, please specify a format.\n",
      "  df = pd.read_csv(\"Book3.csv\", parse_dates=[\"Time\"], index_col=\"Time\")\n"
     ]
    }
   ],
   "source": [
    "df = pd.read_csv(\"Book3.csv\", parse_dates=[\"Time\"], index_col=\"Time\")\n",
    "\n",
    "# Add this to eliminate the warning\n",
    "df.index = pd.to_datetime(df.index)\n",
    "df = df.asfreq('MS')\n"
   ]
  },
  {
   "cell_type": "code",
   "execution_count": 25,
   "id": "d01bfcee",
   "metadata": {},
   "outputs": [],
   "source": [
    "target_columns = [\n",
    "    \"Turnover ;  Total (State) ;  Food retailing ;\",\n",
    "    \"Turnover ;  Total (State) ;  Household goods retailing ;\",\n",
    "    \"Turnover ;  Total (State) ;  Clothing, footwear and personal accessory retailing ;\",\n",
    "    \"Turnover ;  Total (State) ;  Department stores ;\",\n",
    "    \"Turnover ;  Total (State) ;  Other retailing ;\",\n",
    "    \"Turnover ;  Total (State) ;  Cafes, restaurants and takeaway food services ;\"\n",
    "]"
   ]
  },
  {
   "cell_type": "code",
   "execution_count": 27,
   "id": "792e9787",
   "metadata": {},
   "outputs": [],
   "source": [
    "for col in target_columns:\n",
    "    df[col] = pd.to_numeric(df[col], errors=\"coerce\")\n"
   ]
  },
  {
   "cell_type": "code",
   "execution_count": 28,
   "id": "3d74bea5",
   "metadata": {},
   "outputs": [
    {
     "name": "stdout",
     "output_type": "stream",
     "text": [
      "ADF Statistic: 3.86139994946027\n",
      "p-value: 1.0\n"
     ]
    }
   ],
   "source": [
    "from statsmodels.tsa.stattools import adfuller\n",
    "\n",
    "result = adfuller(df[target_columns[0]].dropna())\n",
    "print(f'ADF Statistic: {result[0]}')\n",
    "print(f'p-value: {result[1]}')\n"
   ]
  },
  {
   "cell_type": "code",
   "execution_count": 29,
   "id": "f303cda4",
   "metadata": {},
   "outputs": [],
   "source": [
    "results = []\n"
   ]
  },
  {
   "cell_type": "code",
   "execution_count": 32,
   "id": "3ff63f8e",
   "metadata": {},
   "outputs": [],
   "source": [
    "for col in target_columns:\n",
    "    series = df[col].dropna()\n",
    "\n",
    "    try:\n",
    "        model = SARIMAX(series, order=(1, 1, 1), seasonal_order=(1, 1, 1, 12),\n",
    "                        enforce_stationarity=False, enforce_invertibility=False)\n",
    "        result = model.fit(disp=False)\n",
    "\n",
    "        y_true = series[-12:]\n",
    "        y_pred = result.predict(start=len(series) - 12, end=len(series) - 1)\n",
    "\n",
    "        mae = mean_absolute_error(y_true, y_pred)\n",
    "        mape = mean_absolute_percentage_error(y_true, y_pred) * 100\n",
    "        rmse = mean_squared_error(y_true, y_pred) ** 0.5\n",
    "        r2 = r2_score(y_true, y_pred)\n",
    "\n",
    "        results.append({\n",
    "            \"Category\": col.strip(),\n",
    "            \"MAE\": round(mae, 2),\n",
    "            \"MAPE (%)\": round(mape, 2),\n",
    "            \"RMSE\": round(rmse, 2),\n",
    "            \"R²\": round(r2, 4)\n",
    "        })\n",
    "\n",
    "    except Exception as e:\n",
    "        results.append({\n",
    "            \"Category\": col.strip(),\n",
    "            \"Error\": str(e)\n",
    "        })\n"
   ]
  },
  {
   "cell_type": "code",
   "execution_count": 33,
   "id": "89758c33",
   "metadata": {},
   "outputs": [
    {
     "data": {
      "application/vnd.microsoft.datawrangler.viewer.v0+json": {
       "columns": [
        {
         "name": "index",
         "rawType": "int64",
         "type": "integer"
        },
        {
         "name": "Category",
         "rawType": "object",
         "type": "string"
        },
        {
         "name": "Error",
         "rawType": "object",
         "type": "unknown"
        },
        {
         "name": "MAE",
         "rawType": "float64",
         "type": "float"
        },
        {
         "name": "MAPE (%)",
         "rawType": "float64",
         "type": "float"
        },
        {
         "name": "RMSE",
         "rawType": "float64",
         "type": "float"
        },
        {
         "name": "R²",
         "rawType": "float64",
         "type": "float"
        }
       ],
       "ref": "c9a1d7f1-5adb-4259-b14a-d14c769499a6",
       "rows": [
        [
         "0",
         "Turnover ;  Total (State) ;  Food retailing ;",
         "got an unexpected keyword argument 'squared'",
         null,
         null,
         null,
         null
        ],
        [
         "1",
         "Turnover ;  Total (State) ;  Household goods retailing ;",
         "got an unexpected keyword argument 'squared'",
         null,
         null,
         null,
         null
        ],
        [
         "2",
         "Turnover ;  Total (State) ;  Clothing, footwear and personal accessory retailing ;",
         "got an unexpected keyword argument 'squared'",
         null,
         null,
         null,
         null
        ],
        [
         "3",
         "Turnover ;  Total (State) ;  Department stores ;",
         "got an unexpected keyword argument 'squared'",
         null,
         null,
         null,
         null
        ],
        [
         "4",
         "Turnover ;  Total (State) ;  Other retailing ;",
         "got an unexpected keyword argument 'squared'",
         null,
         null,
         null,
         null
        ],
        [
         "5",
         "Turnover ;  Total (State) ;  Cafes, restaurants and takeaway food services ;",
         "got an unexpected keyword argument 'squared'",
         null,
         null,
         null,
         null
        ],
        [
         "6",
         "Turnover ;  Total (State) ;  Food retailing ;",
         null,
         "166.43",
         "1.17",
         "210.04",
         "0.9428"
        ],
        [
         "7",
         "Turnover ;  Total (State) ;  Household goods retailing ;",
         null,
         "138.87",
         "2.38",
         "173.95",
         "0.9423"
        ],
        [
         "8",
         "Turnover ;  Total (State) ;  Clothing, footwear and personal accessory retailing ;",
         null,
         "63.67",
         "2.33",
         "87.28",
         "0.9734"
        ],
        [
         "9",
         "Turnover ;  Total (State) ;  Department stores ;",
         null,
         "43.73",
         "2.49",
         "55.24",
         "0.9846"
        ],
        [
         "10",
         "Turnover ;  Total (State) ;  Other retailing ;",
         null,
         "108.52",
         "1.98",
         "139.09",
         "0.9498"
        ],
        [
         "11",
         "Turnover ;  Total (State) ;  Cafes, restaurants and takeaway food services ;",
         null,
         "93.79",
         "1.76",
         "110.35",
         "0.8443"
        ]
       ],
       "shape": {
        "columns": 6,
        "rows": 12
       }
      },
      "text/html": [
       "<div>\n",
       "<style scoped>\n",
       "    .dataframe tbody tr th:only-of-type {\n",
       "        vertical-align: middle;\n",
       "    }\n",
       "\n",
       "    .dataframe tbody tr th {\n",
       "        vertical-align: top;\n",
       "    }\n",
       "\n",
       "    .dataframe thead th {\n",
       "        text-align: right;\n",
       "    }\n",
       "</style>\n",
       "<table border=\"1\" class=\"dataframe\">\n",
       "  <thead>\n",
       "    <tr style=\"text-align: right;\">\n",
       "      <th></th>\n",
       "      <th>Category</th>\n",
       "      <th>Error</th>\n",
       "      <th>MAE</th>\n",
       "      <th>MAPE (%)</th>\n",
       "      <th>RMSE</th>\n",
       "      <th>R²</th>\n",
       "    </tr>\n",
       "  </thead>\n",
       "  <tbody>\n",
       "    <tr>\n",
       "      <th>0</th>\n",
       "      <td>Turnover ;  Total (State) ;  Food retailing ;</td>\n",
       "      <td>got an unexpected keyword argument 'squared'</td>\n",
       "      <td>NaN</td>\n",
       "      <td>NaN</td>\n",
       "      <td>NaN</td>\n",
       "      <td>NaN</td>\n",
       "    </tr>\n",
       "    <tr>\n",
       "      <th>1</th>\n",
       "      <td>Turnover ;  Total (State) ;  Household goods r...</td>\n",
       "      <td>got an unexpected keyword argument 'squared'</td>\n",
       "      <td>NaN</td>\n",
       "      <td>NaN</td>\n",
       "      <td>NaN</td>\n",
       "      <td>NaN</td>\n",
       "    </tr>\n",
       "    <tr>\n",
       "      <th>2</th>\n",
       "      <td>Turnover ;  Total (State) ;  Clothing, footwea...</td>\n",
       "      <td>got an unexpected keyword argument 'squared'</td>\n",
       "      <td>NaN</td>\n",
       "      <td>NaN</td>\n",
       "      <td>NaN</td>\n",
       "      <td>NaN</td>\n",
       "    </tr>\n",
       "    <tr>\n",
       "      <th>3</th>\n",
       "      <td>Turnover ;  Total (State) ;  Department stores ;</td>\n",
       "      <td>got an unexpected keyword argument 'squared'</td>\n",
       "      <td>NaN</td>\n",
       "      <td>NaN</td>\n",
       "      <td>NaN</td>\n",
       "      <td>NaN</td>\n",
       "    </tr>\n",
       "    <tr>\n",
       "      <th>4</th>\n",
       "      <td>Turnover ;  Total (State) ;  Other retailing ;</td>\n",
       "      <td>got an unexpected keyword argument 'squared'</td>\n",
       "      <td>NaN</td>\n",
       "      <td>NaN</td>\n",
       "      <td>NaN</td>\n",
       "      <td>NaN</td>\n",
       "    </tr>\n",
       "    <tr>\n",
       "      <th>5</th>\n",
       "      <td>Turnover ;  Total (State) ;  Cafes, restaurant...</td>\n",
       "      <td>got an unexpected keyword argument 'squared'</td>\n",
       "      <td>NaN</td>\n",
       "      <td>NaN</td>\n",
       "      <td>NaN</td>\n",
       "      <td>NaN</td>\n",
       "    </tr>\n",
       "    <tr>\n",
       "      <th>6</th>\n",
       "      <td>Turnover ;  Total (State) ;  Food retailing ;</td>\n",
       "      <td>NaN</td>\n",
       "      <td>166.43</td>\n",
       "      <td>1.17</td>\n",
       "      <td>210.04</td>\n",
       "      <td>0.9428</td>\n",
       "    </tr>\n",
       "    <tr>\n",
       "      <th>7</th>\n",
       "      <td>Turnover ;  Total (State) ;  Household goods r...</td>\n",
       "      <td>NaN</td>\n",
       "      <td>138.87</td>\n",
       "      <td>2.38</td>\n",
       "      <td>173.95</td>\n",
       "      <td>0.9423</td>\n",
       "    </tr>\n",
       "    <tr>\n",
       "      <th>8</th>\n",
       "      <td>Turnover ;  Total (State) ;  Clothing, footwea...</td>\n",
       "      <td>NaN</td>\n",
       "      <td>63.67</td>\n",
       "      <td>2.33</td>\n",
       "      <td>87.28</td>\n",
       "      <td>0.9734</td>\n",
       "    </tr>\n",
       "    <tr>\n",
       "      <th>9</th>\n",
       "      <td>Turnover ;  Total (State) ;  Department stores ;</td>\n",
       "      <td>NaN</td>\n",
       "      <td>43.73</td>\n",
       "      <td>2.49</td>\n",
       "      <td>55.24</td>\n",
       "      <td>0.9846</td>\n",
       "    </tr>\n",
       "    <tr>\n",
       "      <th>10</th>\n",
       "      <td>Turnover ;  Total (State) ;  Other retailing ;</td>\n",
       "      <td>NaN</td>\n",
       "      <td>108.52</td>\n",
       "      <td>1.98</td>\n",
       "      <td>139.09</td>\n",
       "      <td>0.9498</td>\n",
       "    </tr>\n",
       "    <tr>\n",
       "      <th>11</th>\n",
       "      <td>Turnover ;  Total (State) ;  Cafes, restaurant...</td>\n",
       "      <td>NaN</td>\n",
       "      <td>93.79</td>\n",
       "      <td>1.76</td>\n",
       "      <td>110.35</td>\n",
       "      <td>0.8443</td>\n",
       "    </tr>\n",
       "  </tbody>\n",
       "</table>\n",
       "</div>"
      ],
      "text/plain": [
       "                                             Category  \\\n",
       "0       Turnover ;  Total (State) ;  Food retailing ;   \n",
       "1   Turnover ;  Total (State) ;  Household goods r...   \n",
       "2   Turnover ;  Total (State) ;  Clothing, footwea...   \n",
       "3    Turnover ;  Total (State) ;  Department stores ;   \n",
       "4      Turnover ;  Total (State) ;  Other retailing ;   \n",
       "5   Turnover ;  Total (State) ;  Cafes, restaurant...   \n",
       "6       Turnover ;  Total (State) ;  Food retailing ;   \n",
       "7   Turnover ;  Total (State) ;  Household goods r...   \n",
       "8   Turnover ;  Total (State) ;  Clothing, footwea...   \n",
       "9    Turnover ;  Total (State) ;  Department stores ;   \n",
       "10     Turnover ;  Total (State) ;  Other retailing ;   \n",
       "11  Turnover ;  Total (State) ;  Cafes, restaurant...   \n",
       "\n",
       "                                           Error     MAE  MAPE (%)    RMSE  \\\n",
       "0   got an unexpected keyword argument 'squared'     NaN       NaN     NaN   \n",
       "1   got an unexpected keyword argument 'squared'     NaN       NaN     NaN   \n",
       "2   got an unexpected keyword argument 'squared'     NaN       NaN     NaN   \n",
       "3   got an unexpected keyword argument 'squared'     NaN       NaN     NaN   \n",
       "4   got an unexpected keyword argument 'squared'     NaN       NaN     NaN   \n",
       "5   got an unexpected keyword argument 'squared'     NaN       NaN     NaN   \n",
       "6                                            NaN  166.43      1.17  210.04   \n",
       "7                                            NaN  138.87      2.38  173.95   \n",
       "8                                            NaN   63.67      2.33   87.28   \n",
       "9                                            NaN   43.73      2.49   55.24   \n",
       "10                                           NaN  108.52      1.98  139.09   \n",
       "11                                           NaN   93.79      1.76  110.35   \n",
       "\n",
       "        R²  \n",
       "0      NaN  \n",
       "1      NaN  \n",
       "2      NaN  \n",
       "3      NaN  \n",
       "4      NaN  \n",
       "5      NaN  \n",
       "6   0.9428  \n",
       "7   0.9423  \n",
       "8   0.9734  \n",
       "9   0.9846  \n",
       "10  0.9498  \n",
       "11  0.8443  "
      ]
     },
     "execution_count": 33,
     "metadata": {},
     "output_type": "execute_result"
    }
   ],
   "source": [
    "results_df = pd.DataFrame(results)\n",
    "results_df\n"
   ]
  },
  {
   "cell_type": "markdown",
   "id": "e0568035",
   "metadata": {},
   "source": [
    "* PROPHET MODEL"
   ]
  },
  {
   "cell_type": "code",
   "execution_count": 34,
   "id": "4d55e547",
   "metadata": {},
   "outputs": [
    {
     "name": "stderr",
     "output_type": "stream",
     "text": [
      "c:\\Users\\pk989\\AppData\\Local\\Programs\\Python\\Python313\\Lib\\site-packages\\tqdm\\auto.py:21: TqdmWarning: IProgress not found. Please update jupyter and ipywidgets. See https://ipywidgets.readthedocs.io/en/stable/user_install.html\n",
      "  from .autonotebook import tqdm as notebook_tqdm\n"
     ]
    }
   ],
   "source": [
    "import pandas as pd\n",
    "from prophet import Prophet\n",
    "from sklearn.metrics import mean_absolute_error, mean_absolute_percentage_error, mean_squared_error, r2_score\n"
   ]
  },
  {
   "cell_type": "code",
   "execution_count": 35,
   "id": "3c5a5858",
   "metadata": {},
   "outputs": [
    {
     "name": "stderr",
     "output_type": "stream",
     "text": [
      "C:\\Users\\pk989\\AppData\\Local\\Temp\\ipykernel_24388\\1092352182.py:1: UserWarning: Could not infer format, so each element will be parsed individually, falling back to `dateutil`. To ensure parsing is consistent and as-expected, please specify a format.\n",
      "  df = pd.read_csv(\"Book3.csv\", parse_dates=[\"Time\"], index_col=\"Time\")\n"
     ]
    }
   ],
   "source": [
    "df = pd.read_csv(\"Book3.csv\", parse_dates=[\"Time\"], index_col=\"Time\")\n",
    "\n",
    "df.index = pd.to_datetime(df.index)\n",
    "df = df.asfreq('MS')\n"
   ]
  },
  {
   "cell_type": "code",
   "execution_count": 36,
   "id": "5937a211",
   "metadata": {},
   "outputs": [],
   "source": [
    "target_columns = [\n",
    "    \"Turnover ;  Total (State) ;  Food retailing ;\",\n",
    "    \"Turnover ;  Total (State) ;  Household goods retailing ;\",\n",
    "    \"Turnover ;  Total (State) ;  Clothing, footwear and personal accessory retailing ;\",\n",
    "    \"Turnover ;  Total (State) ;  Department stores ;\",\n",
    "    \"Turnover ;  Total (State) ;  Other retailing ;\",\n",
    "    \"Turnover ;  Total (State) ;  Cafes, restaurants and takeaway food services ;\"\n",
    "]\n"
   ]
  },
  {
   "cell_type": "code",
   "execution_count": 38,
   "id": "5fc0dbbc",
   "metadata": {},
   "outputs": [
    {
     "name": "stderr",
     "output_type": "stream",
     "text": [
      "12:23:51 - cmdstanpy - INFO - Chain [1] start processing\n",
      "12:23:51 - cmdstanpy - INFO - Chain [1] done processing\n",
      "12:23:51 - cmdstanpy - INFO - Chain [1] start processing\n",
      "12:23:51 - cmdstanpy - INFO - Chain [1] done processing\n",
      "12:23:51 - cmdstanpy - INFO - Chain [1] start processing\n",
      "12:23:51 - cmdstanpy - INFO - Chain [1] done processing\n",
      "12:23:51 - cmdstanpy - INFO - Chain [1] start processing\n",
      "12:23:51 - cmdstanpy - INFO - Chain [1] done processing\n",
      "12:23:52 - cmdstanpy - INFO - Chain [1] start processing\n",
      "12:23:52 - cmdstanpy - INFO - Chain [1] done processing\n",
      "12:23:52 - cmdstanpy - INFO - Chain [1] start processing\n",
      "12:23:52 - cmdstanpy - INFO - Chain [1] done processing\n"
     ]
    }
   ],
   "source": [
    "results = []\n",
    "\n",
    "for col in target_columns:\n",
    "    data = df[[col]].dropna().reset_index()\n",
    "    data.columns = ['ds', 'y']\n",
    "\n",
    "    try:\n",
    "        model = Prophet()\n",
    "        model.fit(data)\n",
    "\n",
    "        future = model.make_future_dataframe(periods=12, freq='MS')\n",
    "        forecast = model.predict(future)\n",
    "\n",
    "        y_true = data['y'][-12:].values\n",
    "        y_pred = forecast['yhat'][-24:-12].values\n",
    "\n",
    "        mae = mean_absolute_error(y_true, y_pred)\n",
    "        mape = mean_absolute_percentage_error(y_true, y_pred) * 100\n",
    "        rmse = mean_squared_error(y_true, y_pred) ** 0.5\n",
    "        r2 = r2_score(y_true, y_pred)\n",
    "\n",
    "        results.append({\n",
    "            \"Category\": col.strip(),\n",
    "            \"MAE\": round(mae, 2),\n",
    "            \"MAPE (%)\": round(mape, 2),\n",
    "            \"RMSE\": round(rmse, 2),\n",
    "            \"R²\": round(r2, 4)\n",
    "        })\n",
    "\n",
    "    except Exception as e:\n",
    "        results.append({\n",
    "            \"Category\": col.strip(),\n",
    "            \"Error\": str(e)\n",
    "        })\n"
   ]
  },
  {
   "cell_type": "code",
   "execution_count": 39,
   "id": "e12626fc",
   "metadata": {},
   "outputs": [
    {
     "data": {
      "application/vnd.microsoft.datawrangler.viewer.v0+json": {
       "columns": [
        {
         "name": "index",
         "rawType": "int64",
         "type": "integer"
        },
        {
         "name": "Category",
         "rawType": "object",
         "type": "string"
        },
        {
         "name": "MAE",
         "rawType": "float64",
         "type": "float"
        },
        {
         "name": "MAPE (%)",
         "rawType": "float64",
         "type": "float"
        },
        {
         "name": "RMSE",
         "rawType": "float64",
         "type": "float"
        },
        {
         "name": "R²",
         "rawType": "float64",
         "type": "float"
        }
       ],
       "ref": "6dd3fda0-9a0c-49a8-85da-69aa20269fcb",
       "rows": [
        [
         "0",
         "Turnover ;  Total (State) ;  Food retailing ;",
         "332.69",
         "2.24",
         "463.93",
         "0.721"
        ],
        [
         "1",
         "Turnover ;  Total (State) ;  Household goods retailing ;",
         "416.68",
         "7.2",
         "451.27",
         "0.6117"
        ],
        [
         "2",
         "Turnover ;  Total (State) ;  Clothing, footwear and personal accessory retailing ;",
         "170.82",
         "4.86",
         "304.31",
         "0.6769"
        ],
        [
         "3",
         "Turnover ;  Total (State) ;  Department stores ;",
         "83.51",
         "3.64",
         "147.14",
         "0.8906"
        ],
        [
         "4",
         "Turnover ;  Total (State) ;  Other retailing ;",
         "231.66",
         "3.81",
         "328.64",
         "0.7197"
        ],
        [
         "5",
         "Turnover ;  Total (State) ;  Cafes, restaurants and takeaway food services ;",
         "351.49",
         "6.31",
         "383.13",
         "-0.8771"
        ]
       ],
       "shape": {
        "columns": 5,
        "rows": 6
       }
      },
      "text/html": [
       "<div>\n",
       "<style scoped>\n",
       "    .dataframe tbody tr th:only-of-type {\n",
       "        vertical-align: middle;\n",
       "    }\n",
       "\n",
       "    .dataframe tbody tr th {\n",
       "        vertical-align: top;\n",
       "    }\n",
       "\n",
       "    .dataframe thead th {\n",
       "        text-align: right;\n",
       "    }\n",
       "</style>\n",
       "<table border=\"1\" class=\"dataframe\">\n",
       "  <thead>\n",
       "    <tr style=\"text-align: right;\">\n",
       "      <th></th>\n",
       "      <th>Category</th>\n",
       "      <th>MAE</th>\n",
       "      <th>MAPE (%)</th>\n",
       "      <th>RMSE</th>\n",
       "      <th>R²</th>\n",
       "    </tr>\n",
       "  </thead>\n",
       "  <tbody>\n",
       "    <tr>\n",
       "      <th>0</th>\n",
       "      <td>Turnover ;  Total (State) ;  Food retailing ;</td>\n",
       "      <td>332.69</td>\n",
       "      <td>2.24</td>\n",
       "      <td>463.93</td>\n",
       "      <td>0.7210</td>\n",
       "    </tr>\n",
       "    <tr>\n",
       "      <th>1</th>\n",
       "      <td>Turnover ;  Total (State) ;  Household goods r...</td>\n",
       "      <td>416.68</td>\n",
       "      <td>7.20</td>\n",
       "      <td>451.27</td>\n",
       "      <td>0.6117</td>\n",
       "    </tr>\n",
       "    <tr>\n",
       "      <th>2</th>\n",
       "      <td>Turnover ;  Total (State) ;  Clothing, footwea...</td>\n",
       "      <td>170.82</td>\n",
       "      <td>4.86</td>\n",
       "      <td>304.31</td>\n",
       "      <td>0.6769</td>\n",
       "    </tr>\n",
       "    <tr>\n",
       "      <th>3</th>\n",
       "      <td>Turnover ;  Total (State) ;  Department stores ;</td>\n",
       "      <td>83.51</td>\n",
       "      <td>3.64</td>\n",
       "      <td>147.14</td>\n",
       "      <td>0.8906</td>\n",
       "    </tr>\n",
       "    <tr>\n",
       "      <th>4</th>\n",
       "      <td>Turnover ;  Total (State) ;  Other retailing ;</td>\n",
       "      <td>231.66</td>\n",
       "      <td>3.81</td>\n",
       "      <td>328.64</td>\n",
       "      <td>0.7197</td>\n",
       "    </tr>\n",
       "    <tr>\n",
       "      <th>5</th>\n",
       "      <td>Turnover ;  Total (State) ;  Cafes, restaurant...</td>\n",
       "      <td>351.49</td>\n",
       "      <td>6.31</td>\n",
       "      <td>383.13</td>\n",
       "      <td>-0.8771</td>\n",
       "    </tr>\n",
       "  </tbody>\n",
       "</table>\n",
       "</div>"
      ],
      "text/plain": [
       "                                            Category     MAE  MAPE (%)  \\\n",
       "0      Turnover ;  Total (State) ;  Food retailing ;  332.69      2.24   \n",
       "1  Turnover ;  Total (State) ;  Household goods r...  416.68      7.20   \n",
       "2  Turnover ;  Total (State) ;  Clothing, footwea...  170.82      4.86   \n",
       "3   Turnover ;  Total (State) ;  Department stores ;   83.51      3.64   \n",
       "4     Turnover ;  Total (State) ;  Other retailing ;  231.66      3.81   \n",
       "5  Turnover ;  Total (State) ;  Cafes, restaurant...  351.49      6.31   \n",
       "\n",
       "     RMSE      R²  \n",
       "0  463.93  0.7210  \n",
       "1  451.27  0.6117  \n",
       "2  304.31  0.6769  \n",
       "3  147.14  0.8906  \n",
       "4  328.64  0.7197  \n",
       "5  383.13 -0.8771  "
      ]
     },
     "execution_count": 39,
     "metadata": {},
     "output_type": "execute_result"
    }
   ],
   "source": [
    "results_df = pd.DataFrame(results)\n",
    "results_df\n"
   ]
  }
 ],
 "metadata": {
  "kernelspec": {
   "display_name": "Python 3",
   "language": "python",
   "name": "python3"
  },
  "language_info": {
   "codemirror_mode": {
    "name": "ipython",
    "version": 3
   },
   "file_extension": ".py",
   "mimetype": "text/x-python",
   "name": "python",
   "nbconvert_exporter": "python",
   "pygments_lexer": "ipython3",
   "version": "3.13.2"
  }
 },
 "nbformat": 4,
 "nbformat_minor": 5
}
